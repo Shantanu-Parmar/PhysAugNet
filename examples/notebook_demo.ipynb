{
 "cells": [
  {
   "cell_type": "markdown",
   "id": "b27a2c25",
   "metadata": {},
   "source": [
    "# 🔬 PhysAugNet Demo\n",
    "\n",
    "Demonstrates VQ-VAE training, image reconstruction, thermal/grain augmentation, and combined augmentation."
   ]
  },
  {
   "cell_type": "code",
   "execution_count": null,
   "id": "30978462",
   "metadata": {},
   "outputs": [],
   "source": [
    "import os\n",
    "import torch\n",
    "from physaug.vqvae.train import VQVAETrainer\n",
    "from physaug.vqvae.infer import reconstruct_folder\n",
    "from physaug.augment.thermal import apply_thermal_augmentation\n",
    "from physaug.augment.combined import apply_combined_augmentation\n",
    "from physaug.utils.io import load_image_folder, save_image\n",
    "from IPython.display import Image, display"
   ]
  },
  {
   "cell_type": "markdown",
   "id": "1edc49ec",
   "metadata": {},
   "source": [
    "## 🔧 1. Train VQ-VAE"
   ]
  },
  {
   "cell_type": "code",
   "execution_count": null,
   "id": "167e2fc0",
   "metadata": {},
   "outputs": [],
   "source": [
    "trainer = VQVAETrainer('configs/default.yaml')\n",
    "trainer.train()"
   ]
  },
  {
   "cell_type": "markdown",
   "id": "d9fbbded",
   "metadata": {},
   "source": [
    "## 🔁 2. Reconstruct Images"
   ]
  },
  {
   "cell_type": "code",
   "execution_count": null,
   "id": "80dee490",
   "metadata": {},
   "outputs": [],
   "source": [
    "reconstruct_folder('images/test', 'outputs/reconstructed', 'checkpoints/vqvae.pth')"
   ]
  },
  {
   "cell_type": "markdown",
   "id": "4727792b",
   "metadata": {},
   "source": [
    "## 🌡️ 3. Thermal Augmentation"
   ]
  },
  {
   "cell_type": "code",
   "execution_count": null,
   "id": "a69a1b80",
   "metadata": {},
   "outputs": [],
   "source": [
    "images, names = load_image_folder('images/test')\n",
    "for img, name in zip(images, names):\n",
    "    aug_img = apply_thermal_augmentation(img)\n",
    "    save_image(aug_img, f'outputs/augmented/{name}')"
   ]
  },
  {
   "cell_type": "markdown",
   "id": "92b9c0e2",
   "metadata": {},
   "source": [
    "## ⚙️ 4. Combined Augmentation"
   ]
  },
  {
   "cell_type": "code",
   "execution_count": null,
   "id": "155a066d",
   "metadata": {},
   "outputs": [],
   "source": [
    "apply_combined_augmentation('images/test', 'outputs/combined', 'checkpoints/vqvae.pth')"
   ]
  },
  {
   "cell_type": "markdown",
   "id": "c5ac5cc5",
   "metadata": {},
   "source": [
    "## 🖼️ 5. Visualize Outputs"
   ]
  },
  {
   "cell_type": "code",
   "execution_count": null,
   "id": "56b7631e",
   "metadata": {},
   "outputs": [],
   "source": [
    "for fname in os.listdir('outputs/combined'):\n",
    "    if fname.endswith('.png'):\n",
    "        display(Image(filename=f'outputs/combined/{fname}'))\n",
    "        break"
   ]
  }
 ],
 "metadata": {
  "kernelspec": {
   "display_name": "Python 3",
   "language": "python",
   "name": "python3"
  },
  "language_info": {
   "name": "python",
   "version": "3.10"
  }
 },
 "nbformat": 4,
 "nbformat_minor": 5
}
