{
 "cells": [
  {
   "cell_type": "markdown",
   "metadata": {},
   "source": [
    "# 🔬 PhysAugNet Demo\n",
    "\n",
    "This notebook demonstrates the PhysAugNet pipeline, including:\n",
    "- Training a VQ-VAE model for image reconstruction.\n",
    "- Reconstructing images using the trained VQ-VAE.\n",
    "- Applying thermal and grain augmentations.\n",
    "- Combining VQ-VAE reconstructions with thermal and grain augmentations.\n",
    "- Visualizing the results."
   ]
  },
  {
   "cell_type": "code",
   "execution_count": null,
   "metadata": {},
   "outputs": [],
   "source": [
    "import os\n",
    "import torch\n",
    "from physaug.vqvae.train import VQVAETrainer\n",
    "from physaug.vqvae.infer import reconstruct_folder\n",
    "from physaug.augment.combined import apply_combined_augmentation as apply_thermal_grain\n",
    "from physaug.augment.combined import apply_combined_augmentation\n",
    "from physaug.utils.io import load_image_folder, save_image\n",
    "from IPython.display import Image, display"
   ]
  },
  {
   "cell_type": "markdown",
   "metadata": {},
   "source": [
    "## 🔧 1. Train VQ-VAE\n",
    "Train the VQ-VAE model using the configuration in `configs/default.yaml`."
   ]
  },
  {
   "cell_type": "code",
   "execution_count": null,
   "metadata": {},
   "outputs": [],
   "source": [
    "trainer = VQVAETrainer('configs/default.yaml')\n",
    "trainer.train()"
   ]
  },
  {
   "cell_type": "markdown",
   "metadata": {},
   "source": [
    "## 🔁 2. Reconstruct Images\n",
    "Reconstruct test images using the trained VQ-VAE model."
   ]
  },
  {
   "cell_type": "code",
   "execution_count": null,
   "metadata": {},
   "outputs": [],
   "source": [
    "reconstruct_folder('images/test', 'outputs/reconstructed', 'checkpoints/vqvae.pth', 'configs/default.yaml')"
   ]
  },
  {
   "cell_type": "markdown",
   "metadata": {},
   "source": [
    "## 🌡️ 3. Thermal + Grain Augmentation\n",
    "Apply thermal and grain augmentations to test images."
   ]
  },
  {
   "cell_type": "code",
   "execution_count": null,
   "metadata": {},
   "outputs": [],
   "source": [
    "aug_out = \"outputs/augmented\"\n",
    "apply_thermal_grain('images/test', aug_out, 'checkpoints/vqvae.pth', 'configs/default.yaml')"
   ]
  },
  {
   "cell_type": "markdown",
   "metadata": {},
   "source": [
    "## ⚙️ 4. Combined Augmentation\n",
    "Combine VQ-VAE reconstruction with thermal and grain augmentations."
   ]
  },
  {
   "cell_type": "code",
   "execution_count": null,
   "metadata": {},
   "outputs": [],
   "source": [
    "apply_combined_augmentation('images/test', 'outputs/combined', 'checkpoints/vqvae.pth', 'configs/default.yaml')"
   ]
  },
  {
   "cell_type": "markdown",
   "metadata": {},
   "source": [
    "## 🖼️ 5. Visualize Outputs\n",
    "Display a sample augmented image from the combined augmentation output."
   ]
  },
  {
   "cell_type": "code",
   "execution_count": null,
   "metadata": {},
   "outputs": [],
   "source": [
    "for fname in os.listdir('outputs/combined'):\n",
    "    if fname.endswith(('.png', '.jpg', '.jpeg')):\n",
    "        display(Image(filename=f'outputs/combined/{fname}'))\n",
    "        break"
   ]
  }
 ],
 "metadata": {
  "kernelspec": {
   "display_name": "Python 3",
   "language": "python",
   "name": "python3"
  },
  "language_info": {
   "name": "python",
   "version": "3.10"
  }
 },
 "nbformat": 4,
 "nbformat_minor": 5
}
