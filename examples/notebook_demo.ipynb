{
    "cells": [
     {
      "cell_type": "markdown",
      "metadata": {},
      "source": [
       "# \ud83d\udd2c PhysAugNet Demo Notebook\n",
       "\n",
       "This notebook demonstrates how to use PhysAugNet for:\n",
       "- Training VQ-VAE\n",
       "- Reconstructing images\n",
       "- Thermal + grain augmentation\n",
       "- Combined augmentation"
      ]
     },
     {
      "cell_type": "code",
      "execution_count": null,
      "metadata": {},
      "outputs": [],
      "source": [
       "import os\n",
       "import torch\n",
       "from physaug.vqvae.train import train_vqvae\n",
       "from physaug.vqvae.infer import reconstruct_folder\n",
       "from physaug.augment.thermal_grain import apply_thermal_grain\n",
       "from physaug.augment.combined import apply_combined_augmentation\n",
       "from physaug.utils.io import load_image, save_image\n",
       "from IPython.display import Image, display"
      ]
     },
     {
      "cell_type": "markdown",
      "metadata": {},
      "source": [
       "## \ud83d\udd27 1. Train VQ-VAE"
      ]
     },
     {
      "cell_type": "code",
      "execution_count": null,
      "metadata": {},
      "outputs": [],
      "source": [
       "config_path = \"configs/vqvae_default.yaml\"\n",
       "train_vqvae(config_path)"
      ]
     },
     {
      "cell_type": "markdown",
      "metadata": {},
      "source": [
       "## \ud83d\udd01 2. Reconstruct Images with Trained VQ-VAE"
      ]
     },
     {
      "cell_type": "code",
      "execution_count": null,
      "metadata": {},
      "outputs": [],
      "source": [
       "input_dir = \"data/images/test\"\n",
       "recon_dir = \"outputs/reconstructed\"\n",
       "model_path = \"outputs/checkpoints/vqvae_best.pth\"\n",
       "\n",
       "reconstruct_folder(\n",
       "    input_dir=input_dir,\n",
       "    output_dir=recon_dir,\n",
       "    model_path=model_path,\n",
       "    image_size=(128, 128),\n",
       "    device=torch.device(\"cuda\" if torch.cuda.is_available() else \"cpu\")\n",
       ")"
      ]
     },
     {
      "cell_type": "markdown",
      "metadata": {},
      "source": [
       "## \ud83c\udf21\ufe0f 3. Thermal + Grain Augmentation"
      ]
     },
     {
      "cell_type": "code",
      "execution_count": null,
      "metadata": {},
      "outputs": [],
      "source": [
       "aug_out = \"outputs/augmented\"\n",
       "apply_thermal_grain(input_dir, aug_out)"
      ]
     },
     {
      "cell_type": "markdown",
      "metadata": {},
      "source": [
       "## \u2699\ufe0f 4. Combined VQ-VAE + Thermal-Grain Augmentation"
      ]
     },
     {
      "cell_type": "code",
      "execution_count": null,
      "metadata": {},
      "outputs": [],
      "source": [
       "combined_out = \"outputs/combined\"\n",
       "apply_combined_augmentation(recon_dir, combined_out)"
      ]
     },
     {
      "cell_type": "markdown",
      "metadata": {},
      "source": [
       "## \ud83d\uddbc\ufe0f 5. Visualize Outputs"
      ]
     },
     {
      "cell_type": "code",
      "execution_count": null,
      "metadata": {},
      "outputs": [],
      "source": [
       "for fname in os.listdir(combined_out):\n",
       "    if fname.endswith(\".png\"):\n",
       "        display(Image(filename=os.path.join(combined_out, fname)))\n",
       "        break  # Only show one sample"
      ]
     }
    ],
    "metadata": {
     "kernelspec": {
      "display_name": "Python 3",
      "language": "python",
      "name": "python3"
     },
     "language_info": {
      "name": "python",
      "version": "3.10"
     }
    },
    "nbformat": 4,
    "nbformat_minor": 5
   }
   